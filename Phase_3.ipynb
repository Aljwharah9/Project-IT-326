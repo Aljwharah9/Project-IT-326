{
 "cells": [
  {
   "cell_type": "markdown",
   "metadata": {},
   "source": [
    "# Balance Data:"
   ]
  },
  {
   "cell_type": "markdown",
   "metadata": {},
   "source": [
    "#### - Check if the data is balanced or not:"
   ]
  },
  {
   "cell_type": "code",
   "execution_count": 4,
   "metadata": {},
   "outputs": [
    {
     "name": "stdout",
     "output_type": "stream",
     "text": [
      "Number of Home Wins: 429\n",
      "Number of Away Wins: 302\n",
      "Number of Draws: 169\n",
      "_\n",
      "Percentage of Home Wins: 47.67%\n",
      "Percentage of Away Wins: 33.56%\n",
      "Percentage of Draws: 18.78%\n"
     ]
    }
   ],
   "source": [
    "import pandas as pd\n",
    "\n",
    "# Load the dataset\n",
    "data = pd.read_csv('Dataset/Preprocessed_dataset.csv')\n",
    "\n",
    "# Access the 'outcome' column\n",
    "outcomes = data['outcome']\n",
    "\n",
    "# Count occurrences of each outcome\n",
    "num_home_wins = outcomes[outcomes == 'H'].count()\n",
    "num_away_wins = outcomes[outcomes == 'A'].count()\n",
    "num_draws = outcomes[outcomes == 'D'].count()\n",
    "\n",
    "# Calculate the total number of entries\n",
    "total = num_home_wins + num_away_wins + num_draws\n",
    "\n",
    "# Calculate the percentage of each outcome\n",
    "percentage_home_wins = (num_home_wins / total) * 100\n",
    "percentage_away_wins = (num_away_wins / total) * 100\n",
    "percentage_draws = (num_draws / total) * 100\n",
    "\n",
    "# Print the counts and percentages\n",
    "print(\"Number of Home Wins:\", num_home_wins)\n",
    "print(\"Number of Away Wins:\", num_away_wins)\n",
    "print(\"Number of Draws:\", num_draws)\n",
    "print(\"_\")\n",
    "print(\"Percentage of Home Wins: {:.2f}%\".format(percentage_home_wins))\n",
    "print(\"Percentage of Away Wins: {:.2f}%\".format(percentage_away_wins))\n",
    "print(\"Percentage of Draws: {:.2f}%\".format(percentage_draws))"
   ]
  },
  {
   "cell_type": "markdown",
   "metadata": {},
   "source": [
    "#### - Process of correcting data balancing:"
   ]
  },
  {
   "cell_type": "code",
   "execution_count": 3,
   "metadata": {},
   "outputs": [
    {
     "name": "stdout",
     "output_type": "stream",
     "text": [
      "Final number of Home Wins: 169\n",
      "Final number of Away Wins: 169\n",
      "Final number of Draws: 169\n"
     ]
    }
   ],
   "source": [
    "import pandas as pd\n",
    "from sklearn.utils import resample\n",
    "\n",
    "# Load the dataset\n",
    "data = pd.read_csv('Dataset/Preprocessed_dataset.csv')\n",
    "\n",
    "# Determine the number of each outcome\n",
    "num_home_wins = 429  # Provided count for home wins\n",
    "num_away_wins = 302  # Provided count for away wins\n",
    "num_draws = 169      # Provided count for draws\n",
    "\n",
    "# Access data for each outcome\n",
    "home_wins_data = data[data['outcome'] == 'H']\n",
    "away_wins_data = data[data['outcome'] == 'A']\n",
    "draws_data = data[data['outcome'] == 'D']\n",
    "\n",
    "# Choose the number to resample to (the number of draws)\n",
    "target_samples = num_draws  # The smallest group size\n",
    "\n",
    "# Resample the majority classes to the size of the minority class\n",
    "home_wins_resampled = resample(home_wins_data, replace=False, n_samples=target_samples, random_state=42)\n",
    "away_wins_resampled = resample(away_wins_data, replace=False, n_samples=target_samples, random_state=42)\n",
    "\n",
    "# Concatenate the resampled data back together\n",
    "final_data = pd.concat([home_wins_resampled, away_wins_resampled, draws_data])\n",
    "\n",
    "# Save the balanced dataset\n",
    "final_data.to_csv('Dataset/Balanced_Outcomes.csv', index=False)\n",
    "\n",
    "# Print the final counts to verify balance\n",
    "print(\"Final number of Home Wins:\", len(final_data[final_data['outcome'] == 'H']))\n",
    "print(\"Final number of Away Wins:\", len(final_data[final_data['outcome'] == 'A']))\n",
    "print(\"Final number of Draws:\", len(final_data[final_data['outcome'] == 'D']))"
   ]
  },
  {
   "cell_type": "code",
   "execution_count": 4,
   "metadata": {},
   "outputs": [
    {
     "name": "stdout",
     "output_type": "stream",
     "text": [
      "Percentage of Home Wins: 33.33%\n",
      "Percentage of Away Wins: 33.33%\n",
      "Percentage of Draws: 33.33%\n"
     ]
    }
   ],
   "source": [
    "import pandas as pd\n",
    "\n",
    "# Load the dataset\n",
    "data = pd.read_csv('Dataset/Balanced_Outcomes.csv')  \n",
    "outcome_values = data['outcome']\n",
    "\n",
    "num_home_wins = outcome_values[outcome_values == 'H'].count()\n",
    "num_away_wins = outcome_values[outcome_values == 'A'].count()\n",
    "num_draws = outcome_values[outcome_values == 'D'].count()\n",
    "\n",
    "# Calculate the total number of outcomes\n",
    "total = num_home_wins + num_away_wins + num_draws\n",
    "\n",
    "percentage_home_wins = (num_home_wins / total) * 100\n",
    "percentage_away_wins = (num_away_wins / total) * 100\n",
    "percentage_draws = (num_draws / total) * 100\n",
    "\n",
    "# Print the percentages\n",
    "print(\"Percentage of Home Wins: {:.2f}%\".format(percentage_home_wins))\n",
    "print(\"Percentage of Away Wins: {:.2f}%\".format(percentage_away_wins))\n",
    "print(\"Percentage of Draws: {:.2f}%\".format(percentage_draws))"
   ]
  },
  {
   "cell_type": "code",
   "execution_count": 5,
   "metadata": {},
   "outputs": [
    {
     "name": "stdout",
     "output_type": "stream",
     "text": [
      "     year  country  city  stage  home_team  away_team  home_score  away_score  \\\n",
      "0    2018        9    94     19         16         19         0.1         0.1   \n",
      "1    1962        2   127      4         38         69         0.3         0.0   \n",
      "2    1986        8    82     15         53         54         0.1         0.0   \n",
      "3    1938        4    13     21          8         68         0.4         0.2   \n",
      "4    2010       10    55     15         62         37         0.3         0.2   \n",
      "..    ...      ...   ...    ...        ...        ...         ...         ...   \n",
      "502  2018        9    33     17         41         60         0.2         0.2   \n",
      "503  2018        9    57     10         67         43         0.2         0.2   \n",
      "504  2018        9   129     10         35         54         0.1         0.1   \n",
      "505  2018        9    85     11         20         27         0.0         0.0   \n",
      "506  2018        9    94     14         69         15         0.2         0.2   \n",
      "\n",
      "    outcome                   win_conditions  winning_team  losing_team  \\\n",
      "0         H  Croatia won in penalties (3- 2)            12           21   \n",
      "1         H                no win conditions            28           73   \n",
      "2         H                no win conditions            41           58   \n",
      "3         H                no win conditions             6           72   \n",
      "4         H                no win conditions            51           41   \n",
      "..      ...                              ...           ...          ...   \n",
      "502       D                no win conditions            17           22   \n",
      "503       D                no win conditions            17           22   \n",
      "504       D                no win conditions            17           22   \n",
      "505       D                no win conditions            17           22   \n",
      "506       D                no win conditions            17           22   \n",
      "\n",
      "           date  month  dayofweek Year_Decade Month  \n",
      "0    2018-07-01      0          3       2010s  July  \n",
      "1    1962-06-07      1          4       1960s  June  \n",
      "2    1986-06-07      1          2       1980s  June  \n",
      "3    1938-06-19      1          3       1930s  June  \n",
      "4    2010-06-24      1          4       2010s  June  \n",
      "..          ...    ...        ...         ...   ...  \n",
      "502  2018-06-24      1          3       2010s  June  \n",
      "503  2018-06-25      1          1       2010s  June  \n",
      "504  2018-06-25      1          1       2010s  June  \n",
      "505  2018-06-26      1          5       2010s  June  \n",
      "506  2018-06-27      1          6       2010s  June  \n",
      "\n",
      "[507 rows x 17 columns]\n"
     ]
    }
   ],
   "source": [
    "import pandas as pd\n",
    "from scipy import stats\n",
    "from sklearn.tree import DecisionTreeClassifier \n",
    "from sklearn.model_selection import train_test_split\n",
    "from sklearn import metrics \n",
    "from sklearn.metrics import confusion_matrix\n",
    "from sklearn.metrics import ConfusionMatrixDisplay\n",
    "import matplotlib.pyplot as plt\n",
    "from sklearn import tree\n",
    "df = pd.read_csv('Dataset/Balanced_Outcomes.csv');\n",
    "print(df)"
   ]
  },
  {
   "cell_type": "code",
   "execution_count": 8,
   "metadata": {},
   "outputs": [
    {
     "name": "stdout",
     "output_type": "stream",
     "text": [
      "0      H\n",
      "1      H\n",
      "2      H\n",
      "3      H\n",
      "4      H\n",
      "      ..\n",
      "502    D\n",
      "503    D\n",
      "504    D\n",
      "505    D\n",
      "506    D\n",
      "Name: outcome, Length: 507, dtype: object\n"
     ]
    }
   ],
   "source": [
    "fn= df.keys().tolist()[:-1]\n",
    "X= df[fn]\n",
    "y=df['outcome']\n",
    "print(y)"
   ]
  }
 ],
 "metadata": {
  "kernelspec": {
   "display_name": "Python 3",
   "language": "python",
   "name": "python3"
  },
  "language_info": {
   "codemirror_mode": {
    "name": "ipython",
    "version": 3
   },
   "file_extension": ".py",
   "mimetype": "text/x-python",
   "name": "python",
   "nbconvert_exporter": "python",
   "pygments_lexer": "ipython3",
   "version": "3.12.1"
  }
 },
 "nbformat": 4,
 "nbformat_minor": 4
}

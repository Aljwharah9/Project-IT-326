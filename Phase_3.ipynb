{
 "cells": [
  {
   "cell_type": "markdown",
   "metadata": {},
   "source": [
    "# Balance Data:"
   ]
  },
  {
   "cell_type": "markdown",
   "metadata": {},
   "source": [
    "#### - Check if the data is balanced or not:"
   ]
  },
  {
   "cell_type": "code",
   "execution_count": null,
   "metadata": {},
   "outputs": [],
   "source": [
    "import pandas as pd\n",
    "\n",
    "data = pd.read_csv('Preprocessed_dataset.csv')\n",
    "\n",
    "selector_values = data['Selector']\n",
    "\n",
    "num_patients = selector_values[selector_values == 1].count()\n",
    "num_non_patients = selector_values[selector_values == 2].count()\n",
    "\n",
    "total = num_patients + num_non_patients\n",
    "percentage_patients = (num_patients / total) * 100\n",
    "percentage_non_patients = (num_non_patients / total) * 100\n",
    "\n",
    "print(\"Number of Liver patients:\", num_patients)\n",
    "print(\"Number of Not liver patients:\", num_non_patients)\n",
    "print(\"___\")\n",
    "print(\"Percentage of Liver patients: {:.2f}%\".format(percentage_patients))\n",
    "print(\"Percentage of Not liver patients: {:.2f}%\".format(percentage_non_patients))"
   ]
  }
 ],
 "metadata": {
  "kernelspec": {
   "display_name": "Python 3",
   "language": "python",
   "name": "python3"
  },
  "language_info": {
   "codemirror_mode": {
    "name": "python",
    "version": 3
   },
   "file_extension": ".py",
   "mimetype": "text/x-python",
   "name": "python",
   "nbconvert_exporter": "python",
   "pygments_lexer": "ipython3",
   "version": "3.12.1"
  }
 },
 "nbformat": 4,
 "nbformat_minor": 4
}

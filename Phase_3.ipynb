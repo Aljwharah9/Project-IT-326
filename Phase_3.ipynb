{
 "cells": [
  {
   "cell_type": "markdown",
   "metadata": {},
   "source": [
    "# Balance Data:"
   ]
  },
  {
   "cell_type": "markdown",
   "metadata": {},
   "source": [
    "#### - Check if the data is balanced or not:"
   ]
  },
  {
   "cell_type": "code",
   "execution_count": 1,
   "metadata": {},
   "outputs": [
    {
     "name": "stdout",
     "output_type": "stream",
     "text": [
      "Category Counts:\n",
      "outcome\n",
      "H    429\n",
      "A    302\n",
      "D    169\n",
      "Name: count, dtype: int64\n",
      "\n",
      "Category Percentages:\n",
      "outcome\n",
      "H    47.666667\n",
      "A    33.555556\n",
      "D    18.777778\n",
      "Name: count, dtype: float64\n",
      "\n",
      "Dataset is imbalanced.\n"
     ]
    }
   ],
   "source": [
    "import pandas as pd\n",
    "\n",
    "# Load the dataset\n",
    "file_path = 'Dataset/Preprocessed_dataset.csv'\n",
    "data = pd.read_csv(file_path)\n",
    "\n",
    "# Assuming 'outcome' column represents the categories (update this if needed)\n",
    "category_column = 'outcome'\n",
    "\n",
    "# Count occurrences of each category\n",
    "category_counts = data[category_column].value_counts()\n",
    "\n",
    "# Calculate percentages\n",
    "total = category_counts.sum()\n",
    "percentages = (category_counts / total) * 100\n",
    "\n",
    "# Display the counts and percentages\n",
    "print(\"Category Counts:\")\n",
    "print(category_counts)\n",
    "print(\"\\nCategory Percentages:\")\n",
    "print(percentages)\n",
    "\n",
    "# Check if the dataset is balanced\n",
    "threshold = 10  # Define a threshold for imbalance.\n",
    "if abs(percentages.iloc[0] - percentages.iloc[1]) > threshold:\n",
    "    print(\"\\nDataset is imbalanced.\")\n",
    "else:\n",
    "    print(\"\\nDataset is balanced.\")"
   ]
  },
  {
   "cell_type": "markdown",
   "metadata": {},
   "source": []
  }
 ],
 "metadata": {
  "kernelspec": {
   "display_name": "Python 3",
   "language": "python",
   "name": "python3"
  },
  "language_info": {
   "codemirror_mode": {
    "name": "ipython",
    "version": 3
   },
   "file_extension": ".py",
   "mimetype": "text/x-python",
   "name": "python",
   "nbconvert_exporter": "python",
   "pygments_lexer": "ipython3",
   "version": "3.12.1"
  }
 },
 "nbformat": 4,
 "nbformat_minor": 4
}

{
 "cells": [
  {
   "cell_type": "markdown",
   "metadata": {},
   "source": [
    "# Balance Data:"
   ]
  },
  {
   "cell_type": "markdown",
   "metadata": {},
   "source": [
    "#### - Check if the data is balanced or not:"
   ]
  },
  {
   "cell_type": "code",
   "execution_count": 4,
   "metadata": {},
   "outputs": [
    {
     "name": "stdout",
     "output_type": "stream",
     "text": [
      "Number of Home Wins: 429\n",
      "Number of Away Wins: 302\n",
      "Number of Draws: 169\n",
      "_\n",
      "Percentage of Home Wins: 47.67%\n",
      "Percentage of Away Wins: 33.56%\n",
      "Percentage of Draws: 18.78%\n"
     ]
    }
   ],
   "source": [
    "import pandas as pd\n",
    "\n",
    "# Load the dataset\n",
    "data = pd.read_csv('Dataset/Preprocessed_dataset.csv')\n",
    "\n",
    "# Access the 'outcome' column\n",
    "outcomes = data['outcome']\n",
    "\n",
    "# Count occurrences of each outcome\n",
    "num_home_wins = outcomes[outcomes == 'H'].count()\n",
    "num_away_wins = outcomes[outcomes == 'A'].count()\n",
    "num_draws = outcomes[outcomes == 'D'].count()\n",
    "\n",
    "# Calculate the total number of entries\n",
    "total = num_home_wins + num_away_wins + num_draws\n",
    "\n",
    "# Calculate the percentage of each outcome\n",
    "percentage_home_wins = (num_home_wins / total) * 100\n",
    "percentage_away_wins = (num_away_wins / total) * 100\n",
    "percentage_draws = (num_draws / total) * 100\n",
    "\n",
    "# Print the counts and percentages\n",
    "print(\"Number of Home Wins:\", num_home_wins)\n",
    "print(\"Number of Away Wins:\", num_away_wins)\n",
    "print(\"Number of Draws:\", num_draws)\n",
    "print(\"_\")\n",
    "print(\"Percentage of Home Wins: {:.2f}%\".format(percentage_home_wins))\n",
    "print(\"Percentage of Away Wins: {:.2f}%\".format(percentage_away_wins))\n",
    "print(\"Percentage of Draws: {:.2f}%\".format(percentage_draws))"
   ]
  },
  {
   "cell_type": "markdown",
   "metadata": {},
   "source": []
  }
 ],
 "metadata": {
  "kernelspec": {
   "display_name": "Python 3",
   "language": "python",
   "name": "python3"
  },
  "language_info": {
   "codemirror_mode": {
    "name": "ipython",
    "version": 3
   },
   "file_extension": ".py",
   "mimetype": "text/x-python",
   "name": "python",
   "nbconvert_exporter": "python",
   "pygments_lexer": "ipython3",
   "version": "3.12.1"
  }
 },
 "nbformat": 4,
 "nbformat_minor": 4
}
